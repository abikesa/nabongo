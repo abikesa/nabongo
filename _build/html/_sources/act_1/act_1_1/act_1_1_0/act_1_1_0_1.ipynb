{
 "cells": [
  {
   "cell_type": "markdown",
   "metadata": {},
   "source": [
    "# \n",
    "\n",
    "# 64\n",
    "\n",
    "1. Philosophy (The Ph.)\n",
    "2. Knowledge (& D.)\n",
    "3. Error (Morality: IRB)\n",
    "4. Variance/Bias (Thesis)\n",
    "5. Info/Control (R21/R01/U01)\n",
    "\n"
   ]
  }
 ],
 "metadata": {
  "kernelspec": {
   "display_name": "Python 3",
   "language": "python",
   "name": "python3"
  },
  "language_info": {
   "codemirror_mode": {
    "name": "ipython",
    "version": 3
   },
   "file_extension": ".py",
   "mimetype": "text/x-python",
   "name": "python",
   "nbconvert_exporter": "python",
   "pygments_lexer": "ipython3",
   "version": "3.11.2"
  },
  "orig_nbformat": 4
 },
 "nbformat": 4,
 "nbformat_minor": 2
}
