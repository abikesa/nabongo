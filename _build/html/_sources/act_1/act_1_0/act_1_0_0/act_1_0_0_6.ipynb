{
 "cells": [
  {
   "cell_type": "markdown",
   "metadata": {},
   "source": [
    "# \n",
    "\n",
    "# 35 \n",
    "\n",
    "[common](https://www.gutenberg.org/files/28054/28054-h/28054-h.htm) features in great works of art (e.g. [eastern promises](https://play.max.com/movie/ca436060-3cad-4a91-bbd8-bf68a20acf95)):\n",
    "\n",
    "<!DOCTYPE html>\n",
    "<html>\n",
    "<head>\n",
    "    <style>\n",
    "        .expanded-info {\n",
    "            display: none;\n",
    "        }\n",
    "        span.expanded-word {\n",
    "            text-decoration: underline;\n",
    "            cursor: pointer;\n",
    "        }\n",
    "    </style>\n",
    "    <script>\n",
    "        function toggleExpand(elementId) {\n",
    "            var expandedInfo = document.getElementById(elementId);\n",
    "            if (expandedInfo.style.display === 'none' || expandedInfo.style.display === '') {\n",
    "                expandedInfo.style.display = 'block';\n",
    "            } else {\n",
    "                expandedInfo.style.display = 'none';\n",
    "            }\n",
    "        }\n",
    "    </script>\n",
    "</head>\n",
    "<body>\n",
    "    <p>\n",
    "        &emsp;1. <span class=\"expanded-word\"></span> icc is metaphor for the patriachal-hierarchical society such as russian mafia   \n",
    "    </p>\n",
    "    <p>\n",
    "        &emsp;2. <span class=\"expanded-word\"></span> our protagonists tattooes catalog his journey (intercept & slope)  \n",
    "    </p>\n",
    "    <p>\n",
    "        &emsp;3. this <span class=\"expanded-word\" onclick=\"toggleExpand('shibboleth')\">shibboleth</span> will protect you or have your throat slit\n",
    "    </p>\n",
    "    <div id=\"shibboleth\" class=\"expanded-info\">\n",
    "        <p>\n",
    "            &emsp;&emsp;&emsp;&emsp; This craving for community of worship <br>\n",
    "            &emsp;&emsp;&emsp;&emsp; Chief misery of every man <br>\n",
    "            &emsp;&emsp;&emsp;&emsp; Individually & <br>\n",
    "            &emsp;&emsp;&emsp;&emsp; Of all Humanity <br>\n",
    "            &emsp;&emsp;&emsp;&emsp; From the beginning of time <br> \n",
    "        </p>\n",
    "    </div>\n",
    "</body>\n",
    "</html>\n"
   ]
  }
 ],
 "metadata": {
  "kernelspec": {
   "display_name": "Python 3",
   "language": "python",
   "name": "python3"
  },
  "language_info": {
   "codemirror_mode": {
    "name": "ipython",
    "version": 3
   },
   "file_extension": ".py",
   "mimetype": "text/x-python",
   "name": "python",
   "nbconvert_exporter": "python",
   "pygments_lexer": "ipython3",
   "version": "3.11.2"
  },
  "orig_nbformat": 4
 },
 "nbformat": 4,
 "nbformat_minor": 2
}
